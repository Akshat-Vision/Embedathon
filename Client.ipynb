{
 "cells": [
  {
   "cell_type": "code",
   "execution_count": 13,
   "id": "6d07761a-d6cf-491f-a638-3519bd118842",
   "metadata": {},
   "outputs": [
    {
     "name": "stdout",
     "output_type": "stream",
     "text": [
      "Connected to WebSocket server\n",
      "Received encrypted password: 18141312131254144313133, 1711131213131415111313121312131, 16131211141314141312131213121, 16131225541413124313133, 1652111413141452111413161, 1613121213131414131212131312131, 521312131213141413121313343\n"
     ]
    }
   ],
   "source": [
    "import asyncio\n",
    "import nest_asyncio\n",
    "import websockets\n",
    "import base64\n",
    "import numpy\n",
    "import matplotlib.pyplot as plt\n",
    "\n",
    "nest_asyncio.apply()\n",
    "\n",
    "SERVER_IP = \"ws://192.168.29.4:80/ws\"\n",
    "string = \"\"\n",
    "\n",
    "async def receive_password():\n",
    "    async with websockets.connect(SERVER_IP) as websocket:\n",
    "        print(\"Connected to WebSocket server\")\n",
    "        while True:\n",
    "            message = await websocket.recv()\n",
    "            print(f\"Received encrypted password: {message}\")\n",
    "            string = message\n",
    "            break\n",
    "\n",
    "await receive_password()"
   ]
  },
  {
   "cell_type": "code",
   "execution_count": 14,
   "id": "7b595e03-6d9f-457b-a5f4-322ee4e66fde",
   "metadata": {},
   "outputs": [
    {
     "data": {
      "text/plain": [
       "<matplotlib.image.AxesImage at 0x2326e9954f0>"
      ]
     },
     "execution_count": 14,
     "metadata": {},
     "output_type": "execute_result"
    },
    {
     "data": {
      "image/png": "[encoded data removed]",
      "text/plain": [
       "<Figure size 640x480 with 1 Axes>"
      ]
     },
     "metadata": {},
     "output_type": "display_data"
    }
   ],
   "source": [
    "strings = [\n",
    "    \"18141312131254144313133\",\n",
    "    \"1711131213131415111313121312131\",\n",
    "    \"16131211141314141312131213121\",\n",
    "    \"16131225541413124313133\",\n",
    "    \"1652111413141452111413161\",\n",
    "    \"1613121213131414131212131312131\",\n",
    "    \"521312131213141413121313343\"\n",
    "]\n",
    "\n",
    "pos = []\n",
    "for s in strings:\n",
    "    temp=[]\n",
    "    for i,num in enumerate(s):\n",
    "        for j in range(int(num)):\n",
    "            if i%2==0:\n",
    "                temp.append(255)\n",
    "            else:\n",
    "                temp.append(0)\n",
    "    if(len(temp)<61):\n",
    "        for k in range(61-len(temp)):\n",
    "            temp.append(0)\n",
    "    pos.append(temp)\n",
    "\n",
    "img = numpy.array(pos)\n",
    "plt.imshow(img)"
   ]
  },
  {
   "cell_type": "code",
   "execution_count": null,
   "id": "03a18220-a208-4f81-a236-f6ae67d697ad",
   "metadata": {},
   "outputs": [],
   "source": []
  }
 ],
 "metadata": {
  "kernelspec": {
   "display_name": "Python 3 (ipykernel)",
   "language": "python",
   "name": "python3"
  },
  "language_info": {
   "codemirror_mode": {
    "name": "ipython",
    "version": 3
   },
   "file_extension": ".py",
   "mimetype": "text/x-python",
   "name": "python",
   "nbconvert_exporter": "python",
   "pygments_lexer": "ipython3",
   "version": "3.12.7"
  }
 },
 "nbformat": 4,
 "nbformat_minor": 5
}
